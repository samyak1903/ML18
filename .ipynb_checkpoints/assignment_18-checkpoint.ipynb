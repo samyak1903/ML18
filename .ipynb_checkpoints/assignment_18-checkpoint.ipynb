{
 "cells": [
  {
   "cell_type": "markdown",
   "metadata": {},
   "source": [
    "## Q.1- Consider the following diagram:\n",
    "<img src='http://res.cloudinary.com/av-images/image/upload/v1528907550/61_cdsklk.png'>\n",
    " \n",
    "#### where\n",
    "#### a, b, and c are inputs\n",
    "#### u = a * b\n",
    "#### v = a * c\n",
    "#### w = b + c\n",
    "#### F = u + v - w\n",
    "\n",
    "### What is the value of F? Give answer in the simplest form."
   ]
  },
  {
   "cell_type": "markdown",
   "metadata": {},
   "source": [
    "Ans. F= (a-1)*(b+c)"
   ]
  },
  {
   "cell_type": "markdown",
   "metadata": {},
   "source": [
    "## Q.2- The input values and weights, along with the activation function, are given below. Find the values of x and output (f(x)). \n",
    "### If bias is -1.1, then what is the output? Is there any change? Why do we need bias?\n",
    "<img src='http://res.cloudinary.com/av-images/image/upload/v1528907549/62_vkqnk4.png'>"
   ]
  },
  {
   "cell_type": "code",
   "execution_count": 8,
   "metadata": {
    "collapsed": false
   },
   "outputs": [
    {
     "name": "stdout",
     "output_type": "stream",
     "text": [
      "x= 21.3408\n",
      "f(x)= 1.0000000005392726\n"
     ]
    }
   ],
   "source": [
    "import math\n",
    "x1=-0.06\n",
    "x2=-2.5\n",
    "x3=1.4\n",
    "w1=2.7\n",
    "w2=-8.6\n",
    "w3=0.002\n",
    "X=(x1*w1)+(x2*w2)+(x3*w3)\n",
    "print('x=',X)\n",
    "def f(X):\n",
    "    return 1/1+math.exp(-X)\n",
    "print('f(x)=',f(X))"
   ]
  },
  {
   "cell_type": "markdown",
   "metadata": {},
   "source": [
    "If bias=-1.1"
   ]
  },
  {
   "cell_type": "code",
   "execution_count": 9,
   "metadata": {
    "collapsed": false
   },
   "outputs": [
    {
     "name": "stdout",
     "output_type": "stream",
     "text": [
      "x= 20.2408\n",
      "f(x)= 1.0000000016200643\n"
     ]
    }
   ],
   "source": [
    "b=-1.1\n",
    "X=X=(x1*w1)+(x2*w2)+(x3*w3)+b\n",
    "print('x=',X)\n",
    "def f(X):\n",
    "    return 1/1+math.exp(-X)\n",
    "print('f(x)=',f(X))"
   ]
  },
  {
   "cell_type": "markdown",
   "metadata": {},
   "source": [
    "There is no change in f(x) after addition of biased term."
   ]
  },
  {
   "cell_type": "markdown",
   "metadata": {},
   "source": [
    "A bias unit is an \"extra\" neuron added to each pre-output layer that stores the value of 1. Bias units aren't connected to any previous layer and in this sense don't represent a true \"activity\"."
   ]
  },
  {
   "cell_type": "markdown",
   "metadata": {},
   "source": [
    "The bias units are characterized by the text \"+1\". As you can see, a bias unit is just appended to the start/end of the input and each hidden layer, and isn't influenced by the values in the previous layer i.e. these neurons don't have any incoming connections."
   ]
  },
  {
   "cell_type": "markdown",
   "metadata": {},
   "source": [
    "<img src='https://qph.ec.quoracdn.net/main-qimg-bf5a21006f36c6653a586b06da1a04f2.webp'>"
   ]
  },
  {
   "cell_type": "markdown",
   "metadata": {},
   "source": [
    "A bias value allows you to shift the activation function to the left or right, which may be critical for successful learning."
   ]
  },
  {
   "cell_type": "markdown",
   "metadata": {},
   "source": [
    "https://stackoverflow.com/questions/2480650/role-of-bias-in-neural-networks"
   ]
  },
  {
   "cell_type": "code",
   "execution_count": null,
   "metadata": {
    "collapsed": true
   },
   "outputs": [],
   "source": []
  }
 ],
 "metadata": {
  "kernelspec": {
   "display_name": "Python 3",
   "language": "python",
   "name": "python3"
  },
  "language_info": {
   "codemirror_mode": {
    "name": "ipython",
    "version": 3
   },
   "file_extension": ".py",
   "mimetype": "text/x-python",
   "name": "python",
   "nbconvert_exporter": "python",
   "pygments_lexer": "ipython3",
   "version": "3.6.5"
  }
 },
 "nbformat": 4,
 "nbformat_minor": 0
}
